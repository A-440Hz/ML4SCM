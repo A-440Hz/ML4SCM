{
 "cells": [
  {
   "cell_type": "markdown",
   "metadata": {},
   "source": [
    "#### Python code for running phreeqc with specified parameters and thermodynamic values\n",
    "\n",
    "---\n",
    "\n",
    "This is a sample file running one instance of phreeqc from python code for the purpose of finding thermodynamic constants for surface complexation models\n",
    "\n",
    "The main code body is copied from Haruko Wainwright's file\n",
    "\n",
    "phreeqc downloaded here: https://www.usgs.gov/software/phreeqc-version-3\n",
    "\n",
    "install batch version to run phreeqc via os.popen "
   ]
  },
  {
   "cell_type": "markdown",
   "metadata": {},
   "source": [
    "##### Import necessary packages:\n",
    "\n",
    "os is needed to interact with other files\n",
    "\n",
    "writeIOphreeqc is a python file with functions for formatting parameter values in a PEST format for phreeqc input"
   ]
  },
  {
   "cell_type": "code",
   "execution_count": 3,
   "metadata": {},
   "outputs": [],
   "source": [
    "import os \n",
    "from writeIOphreeqc import*"
   ]
  },
  {
   "cell_type": "markdown",
   "metadata": {},
   "source": [
    "##### Set up input files and parameters"
   ]
  },
  {
   "cell_type": "code",
   "execution_count": 4,
   "metadata": {},
   "outputs": [],
   "source": [
    "TDBfile = 'llnl' # it should be the same as llnl.tpl, which is formatted according to the PEST protocol\n",
    "outfile = 'output.sel' \n",
    "pars     = ['!kHfo_sO-!','!kHfo_sOUO3H!','!kHfo_sOUO3-!','!kHfo_sOUO2(CO3)2-3!','!kHfo_sOUO2+!','!khfo_souo2(c!']\n",
    "\n",
    "#thermodynamic constants associated with pars\n",
    "values   = [-1.6666667, 5.0000002E+00, -1.6666666667, -1.6666667E+00, -1.6666666667, -1.6666667E+00]\n",
    "values   = [-8.0, -8.0, -8.0, -2.0, -8.0, -8.0]\n",
    "n_obs = 140\n",
    "\n",
    "# filepath to phreeqc.exe\n",
    "pqcpath = 'C:/Users/htzen/Desktop/phreeqc-3.7.0-15749-x64/bin/phreeqc'"
   ]
  },
  {
   "cell_type": "markdown",
   "metadata": {},
   "source": [
    "##### launch phreeqc with os.popen"
   ]
  },
  {
   "cell_type": "code",
   "execution_count": 5,
   "metadata": {},
   "outputs": [],
   "source": [
    "writeInput(TDBfile, pars, values)\n",
    "os.popen(pqcpath+' input.txt output.txt llnl.txt')\n",
    "obs = readOutput(outfile,n_obs)"
   ]
  }
 ],
 "metadata": {
  "kernelspec": {
   "display_name": "Python 3",
   "language": "python",
   "name": "python3"
  },
  "language_info": {
   "codemirror_mode": {
    "name": "ipython",
    "version": 3
   },
   "file_extension": ".py",
   "mimetype": "text/x-python",
   "name": "python",
   "nbconvert_exporter": "python",
   "pygments_lexer": "ipython3",
   "version": "3.8.3"
  }
 },
 "nbformat": 4,
 "nbformat_minor": 4
}
